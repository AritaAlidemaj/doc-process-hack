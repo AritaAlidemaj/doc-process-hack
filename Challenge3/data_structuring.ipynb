{
 "cells": [
  {
   "cell_type": "markdown",
   "metadata": {},
   "source": [
    "### Step 1 - Read the Information from the Blobs\n",
    "\n",
    "In this step, we will structure the data retrieved from Azure Document Intelligence. The data will be outputted as a JSON file, and it is our role to process and organize it. Some of the data will be structured into tables, while other data will be formatted as text. This step ensures that the extracted information is organized in a meaningful way for further analysis and usage."
   ]
  },
  {
   "cell_type": "code",
   "execution_count": 42,
   "metadata": {},
   "outputs": [],
   "source": [
    "import os\n",
    "import json\n",
    "from azure.storage.blob import BlobServiceClient\n",
    "from dotenv import load_dotenv\n",
    "\n",
    "# Load environment variables from .env file\n",
    "load_dotenv()\n",
    "\n",
    "def read_json_files_from_blob(folder_path):\n",
    "    # Retrieve the connection string from the environment variables\n",
    "    connection_string = os.getenv('connection_string')\n",
    "\n",
    "    # Ensure the connection string is not None\n",
    "    if connection_string is None:\n",
    "        raise ValueError(\"The connection string environment variable is not set.\")\n",
    "\n",
    "    # Create a BlobServiceClient\n",
    "    blob_service_client = BlobServiceClient.from_connection_string(connection_string)\n",
    "\n",
    "    # Get the container client\n",
    "    container_client = blob_service_client.get_container_client(\"bankdetail\")\n",
    "\n",
    "    # List all blobs in the specified folder\n",
    "    blob_list = container_client.list_blobs(name_starts_with=folder_path)\n",
    "\n",
    "    # Filter out JSON files and read their contents\n",
    "    for blob in blob_list:\n",
    "        if blob.name.endswith('.json'):\n",
    "            blob_client = container_client.get_blob_client(blob.name)\n",
    "            blob_data = blob_client.download_blob().readall()\n",
    "            data = json.loads(blob_data)\n",
    "            # print(f\"Contents of {blob.name}:\")\n",
    "            # print(json.dumps(data, indent=2))\n",
    "            # print(\"\\n\")\n",
    "            return data "
   ]
  },
  {
   "cell_type": "markdown",
   "metadata": {},
   "source": [
    "#### Loan Agreements"
   ]
  },
  {
   "cell_type": "code",
   "execution_count": 43,
   "metadata": {},
   "outputs": [],
   "source": [
    "loanagreement = read_json_files_from_blob(\"loanagreements\")"
   ]
  },
  {
   "cell_type": "markdown",
   "metadata": {},
   "source": [
    "#### Loan Forms"
   ]
  },
  {
   "cell_type": "code",
   "execution_count": 44,
   "metadata": {},
   "outputs": [],
   "source": [
    "loanform = read_json_files_from_blob(\"loanform\")"
   ]
  },
  {
   "cell_type": "markdown",
   "metadata": {},
   "source": [
    "#### Pay Stubs"
   ]
  },
  {
   "cell_type": "code",
   "execution_count": 100,
   "metadata": {},
   "outputs": [],
   "source": [
    "paystub = read_json_files_from_blob(\"paystubs\")"
   ]
  },
  {
   "cell_type": "markdown",
   "metadata": {},
   "source": [
    "### Step 3 - Data Structuring\n",
    "\n",
    "\n",
    "In this step, you will read JSON data from Azure Blob Storage, clean the data to retain only the text content, and remove any unnecessary formatting such as newlines and spaces. Follow the instructions below to complete this step."
   ]
  },
  {
   "cell_type": "markdown",
   "metadata": {},
   "source": [
    "#### Loan Agreements"
   ]
  },
  {
   "cell_type": "code",
   "execution_count": 46,
   "metadata": {},
   "outputs": [
    {
     "name": "stdout",
     "output_type": "stream",
     "text": [
      "\"LOAN AGREEMENT This Loan Agreement (\\\"Agreement\\\") is made and entered into on August 1, 2024, by and between: \\u00b7 Lender: Contoso Bank Address: 123 Finance Avenue, Madison, WI 53703 Contact Number: (555) 123-4567 Email: lending@contosobank.com . Borrower: Jane Elizabeth Smith Address: 456 Oak Avenue, Unit 10, Madison, WI 53703 Contact Number: (555) 234-5678 Email: jane.smith90@example.com 1. Loan Amount and Purpose 1.1 Loan Amount: The Lender agrees to loan the Borrower the principal sum of $30,000.00 (thirty thousand dollars), referred to as the \\\"Loan.\\\" 1.2 Purpose of Loan: The Loan shall be used exclusively for the purchase of a vehicle, specifically a 2022 Toyota Camry. 2. Interest Rate 2.1 Interest Rate: The Loan shall bear interest at an annual fixed rate of 5.5%. 2.2 Accrual: Interest shall begin to accrue on the Loan from the date the funds are disbursed to the Borrower. 3. Loan Term 3.1 Term: The term of this Loan shall be 5 years (60 months), commencing on August 1, 2024, and ending on August 1, 2029. 4. Repayment 4.1 Monthly Payments: The Borrower agrees to make monthly payments of $573.99, which includes both principal and interest, starting on September 1, 2024, and continuing on the first day of each month thereafter until the Loan is fully repaid. 4.2 Prepayment: The Borrower may prepay the Loan in whole or in part at any time without penalty. Any prepayment will be applied first to accrued interest, then to the principal. 4.3 Late Payments: If any payment is not received within 10 days of the due date, the Borrower shall be charged a late fee of $25.00. 5. Security 5.1 Collateral: The Loan is secured by the vehicle purchased with the Loan proceeds, specifically a 2022 Toyota Camry. The Borrower grants the Lender a security interest in the vehicle. 5.2 Title and Insurance: The Borrower agrees to maintain full insurance coverage on the vehicle and to name the Lender as the loss payee on the insurance policy. The Borrower shall provide proof of insurance to the Lender within 30 days of the Loan disbursement. 6. Default 6.1 Events of Default: The following events shall constitute an event of default under this Agreement: . Failure to make any payment when due. . Breach of any term or condition of this Agreement. . Bankruptcy or insolvency of the Borrower. . Sale or transfer of the collateral without the Lender's consent. 6.2 Remedies: Upon the occurrence of an event of default, the Lender may declare the entire unpaid principal and accrued interest immediately due and payable. The Lender may also repossess the collateral or pursue any other remedy available at law or in equity. 7. Miscellaneous 7.1 Governing Law: This Agreement shall be governed by and construed in accordance with the laws of the State of Wisconsin. 7.2 Amendments: No amendment or modification of this Agreement shall be effective unless in writing and signed by both parties. 7.3 Severability: If any provision of this Agreement is found to be invalid or unenforceable, the remaining provisions shall continue in full force and effect. 7.4 Entire Agreement: This Agreement constitutes the entire understanding between the parties regarding the Loan and supersedes all prior discussions, agreements, or understandings of any kind. 8. Signatures IN WITNESS WHEREOF, the parties have executed this Loan Agreement as of the day and year first above written. Lender: Contoso Bank By: NG Name: Michael Grant Title: Loan Officer Date: August 1, 2024 Borrower: By: Jane Elizabeth Smith Date: August 1, 2024\"\n"
     ]
    }
   ],
   "source": [
    "def clean_json_data(json_data):\n",
    "    # Extract relevant text content from the JSON\n",
    "    content = []\n",
    "\n",
    "    # Extract text from paragraphs\n",
    "    paragraphs = json_data.get(\"paragraphs\", [])\n",
    "    for paragraph in paragraphs:\n",
    "        content.append(paragraph.get(\"text\", \"\").strip())\n",
    "\n",
    "    # Extract text from pages and lines\n",
    "    pages = json_data.get(\"pages\", [])\n",
    "    for page in pages:\n",
    "        for line in page.get(\"lines\", []):\n",
    "            content.append(line.get(\"text\", \"\").strip())\n",
    "\n",
    "    # Join all text content into a single string with spaces between components\n",
    "    plain_text_content = \" \".join(content)\n",
    "\n",
    "    return plain_text_content\n",
    "\n",
    "# Clean the JSON data\n",
    "cleaned_data = clean_json_data(loanagreement)\n",
    "\n",
    "# Print the cleaned data\n",
    "print(json.dumps(cleaned_data, indent=2))"
   ]
  },
  {
   "cell_type": "code",
   "execution_count": 47,
   "metadata": {},
   "outputs": [
    {
     "name": "stdout",
     "output_type": "stream",
     "text": [
      "\"LOAN AGREEMENT This Loan Agreement (\\\"Agreement\\\") is made and entered into on August 1, 2024, by and between: \\u00b7 Lender: Contoso Bank Address: 123 Finance Avenue, Madison, WI 53703 Contact Number: (555) 123-4567 Email: lending@contosobank.com . Borrower: Jane Elizabeth Smith Address: 456 Oak Avenue, Unit 10, Madison, WI 53703 Contact Number: (555) 234-5678 Email: jane.smith90@example.com 1. Loan Amount and Purpose 1.1 Loan Amount: The Lender agrees to loan the Borrower the principal sum of $30,000.00 (thirty thousand dollars), referred to as the \\\"Loan.\\\" 1.2 Purpose of Loan: The Loan shall be used exclusively for the purchase of a vehicle, specifically a 2022 Toyota Camry. 2. Interest Rate 2.1 Interest Rate: The Loan shall bear interest at an annual fixed rate of 5.5%. 2.2 Accrual: Interest shall begin to accrue on the Loan from the date the funds are disbursed to the Borrower. 3. Loan Term 3.1 Term: The term of this Loan shall be 5 years (60 months), commencing on August 1, 2024, and ending on August 1, 2029. 4. Repayment 4.1 Monthly Payments: The Borrower agrees to make monthly payments of $573.99, which includes both principal and interest, starting on September 1, 2024, and continuing on the first day of each month thereafter until the Loan is fully repaid. 4.2 Prepayment: The Borrower may prepay the Loan in whole or in part at any time without penalty. Any prepayment will be applied first to accrued interest, then to the principal. 4.3 Late Payments: If any payment is not received within 10 days of the due date, the Borrower shall be charged a late fee of $25.00. 5. Security 5.1 Collateral: The Loan is secured by the vehicle purchased with the Loan proceeds, specifically a 2022 Toyota Camry. The Borrower grants the Lender a security interest in the vehicle. 5.2 Title and Insurance: The Borrower agrees to maintain full insurance coverage on the vehicle and to name the Lender as the loss payee on the insurance policy. The Borrower shall provide proof of insurance to the Lender within 30 days of the Loan disbursement. 6. Default 6.1 Events of Default: The following events shall constitute an event of default under this Agreement: . Failure to make any payment when due. . Breach of any term or condition of this Agreement. . Bankruptcy or insolvency of the Borrower. . Sale or transfer of the collateral without the Lender's consent. 6.2 Remedies: Upon the occurrence of an event of default, the Lender may declare the entire unpaid principal and accrued interest immediately due and payable. The Lender may also repossess the collateral or pursue any other remedy available at law or in equity. 7. Miscellaneous 7.1 Governing Law: This Agreement shall be governed by and construed in accordance with the laws of the State of Wisconsin. 7.2 Amendments: No amendment or modification of this Agreement shall be effective unless in writing and signed by both parties. 7.3 Severability: If any provision of this Agreement is found to be invalid or unenforceable, the remaining provisions shall continue in full force and effect. 7.4 Entire Agreement: This Agreement constitutes the entire understanding between the parties regarding the Loan and supersedes all prior discussions, agreements, or understandings of any kind. 8. Signatures IN WITNESS WHEREOF, the parties have executed this Loan Agreement as of the day and year first above written. Lender: Contoso Bank By: NG Name: Michael Grant Title: Loan Officer Date: August 1, 2024 Borrower: By: Jane Elizabeth Smith Date: August 1, 2024\"\n"
     ]
    }
   ],
   "source": [
    "# Clean the JSON data\n",
    "cleaned_data = clean_json_data(loanagreement)\n",
    "\n",
    "# Print the cleaned data\n",
    "print(json.dumps(cleaned_data, indent=2))"
   ]
  },
  {
   "cell_type": "markdown",
   "metadata": {},
   "source": [
    "#### Loan Form"
   ]
  },
  {
   "cell_type": "code",
   "execution_count": 48,
   "metadata": {},
   "outputs": [],
   "source": [
    "def clean_json_data_with_tables(json_data):\n",
    "    def combine_table_rows(table):\n",
    "        # Dictionary to store the combined content for row_index 1 and 2\n",
    "        combined_content = {}\n",
    "\n",
    "        # Iterate over the cells to combine content for row 1 and row 2\n",
    "        for cell in table['cells']:\n",
    "            row_index = cell['row_index']\n",
    "            col_index = cell['column_index']\n",
    "            content = cell['content'].strip()  # Strip any leading/trailing whitespace\n",
    "\n",
    "            if row_index == 1:\n",
    "                # Start with the content in row 1\n",
    "                combined_content[col_index] = content\n",
    "            elif row_index == 2:\n",
    "                # Append the content in row 2 to the corresponding column in row 1\n",
    "                if col_index in combined_content:\n",
    "                    combined_content[col_index] += \" \" + content\n",
    "                    print(combined_content)\n",
    "                else:\n",
    "                    combined_content[col_index] = content\n",
    "\n",
    "        # Create a new list for the modified cells\n",
    "        new_cells = []\n",
    "\n",
    "        # Add the original row 0 cells to the new list\n",
    "        for cell in table['cells']:\n",
    "            if cell['row_index'] == 0:\n",
    "                new_cells.append(cell)\n",
    "\n",
    "        # Create new cells for the combined row (row_index 1)\n",
    "        for col_index in range(table['column_count']):\n",
    "            combined_cell = {\n",
    "                \"row_index\": 1,\n",
    "                \"column_index\": col_index,\n",
    "                \"content\": combined_content.get(col_index, \"\"),  # Get the combined content or an empty string\n",
    "                \"bounding_regions\": []  # Leave bounding regions empty for this example\n",
    "            }\n",
    "            new_cells.append(combined_cell)\n",
    "\n",
    "        # Return the modified table with only two rows\n",
    "        return {\n",
    "            \"row_count\": 2,  # Updated row count\n",
    "            \"column_count\": table['column_count'],\n",
    "            \"bounding_regions\": table['bounding_regions'],  # Keep the original bounding regions\n",
    "            \"cells\": new_cells\n",
    "        }\n",
    "\n",
    "    def convert_table_data_to_json(table_data):\n",
    "        # Initialize the resulting table structure\n",
    "        table = {\n",
    "            \"Employer Name\": [],\n",
    "            \"Position\": [],\n",
    "            \"Employment Duration\": [],\n",
    "            \"Monthly Income\": [],\n",
    "            \"Contact Number\": []\n",
    "        }\n",
    "\n",
    "        # Iterate through the cells in the table data\n",
    "        for cell in table_data['cells']:\n",
    "            row_index = cell['row_index']\n",
    "            col_index = cell['column_index']\n",
    "            content = cell['content'].strip()  # Remove any leading/trailing whitespace\n",
    "\n",
    "            if row_index == 1:\n",
    "                if col_index == 0:\n",
    "                    table[\"Employer Name\"].append(content)\n",
    "                elif col_index == 1:\n",
    "                    table[\"Position\"].append(content)\n",
    "                elif col_index == 2:\n",
    "                    table[\"Employment Duration\"].append(content)\n",
    "                elif col_index == 3:\n",
    "                    table[\"Monthly Income\"].append(content)\n",
    "                elif col_index == 4:\n",
    "                    table[\"Contact Number\"].append(content)\n",
    "\n",
    "        return table\n",
    "\n",
    "    # Extract relevant text content from the JSON\n",
    "    content = []\n",
    "\n",
    "    # Extract text from paragraphs\n",
    "    paragraphs = json_data.get(\"paragraphs\", [])\n",
    "    for paragraph in paragraphs:\n",
    "        content.append(paragraph.get(\"text\", \"\").strip())\n",
    "\n",
    "    # Extract text from pages and lines\n",
    "    pages = json_data.get(\"pages\", [])\n",
    "    for page in pages:\n",
    "        for line in page.get(\"lines\", []):\n",
    "            content.append(line.get(\"text\", \"\").strip())\n",
    "\n",
    "        # Extract text from tables\n",
    "        tables = page.get(\"tables\", [])\n",
    "        for table in tables:\n",
    "            # Combine rows 1 and 2 in each column\n",
    "            combined_table = combine_table_rows(table)\n",
    "            table_content = convert_table_data_to_json(combined_table)\n",
    "            # You can append the JSON structure or its string representation to the content\n",
    "            content.append(str(table_content))\n",
    "\n",
    "    # Join all text content into a single string with spaces between components\n",
    "    plain_text_content = \" \".join(content)\n",
    "\n",
    "    return plain_text_content"
   ]
  },
  {
   "cell_type": "code",
   "execution_count": 49,
   "metadata": {},
   "outputs": [],
   "source": [
    "pre_cleaned_data = clean_json_data_with_tables(loanform)"
   ]
  },
  {
   "cell_type": "code",
   "execution_count": 50,
   "metadata": {},
   "outputs": [
    {
     "name": "stdout",
     "output_type": "stream",
     "text": [
      "{\n",
      "  \"Category\": \"Loan Application Form\",\n",
      "  \"Applicant Information\": {\n",
      "    \"Full Name\": \"Jane Elizabeth Smith\",\n",
      "    \"Date of Birth\": \"08/22/1990\",\n",
      "    \"Social Security Number\": \"987-65-4321\",\n",
      "    \"Contact Number\": \"(555) 234-5678\",\n",
      "    \"Email Address\": \"jane.smith90@example.com\",\n",
      "    \"Physical Address\": \"456 Oak Avenue, Unit 10, Madison, WI 53703\"\n",
      "  },\n",
      "  \"Employment and Income Details\": {\n",
      "    \"Employer Name\": \"\",\n",
      "    \"Position\": \"\",\n",
      "    \"Employment Duration\": \"\",\n",
      "    \"Monthly Income\": \"\",\n",
      "    \"Employer Contact Number\": \"Horizon Store Manager 3 years $4,583.33 (555) 789- Retailers 2345\"\n",
      "  },\n",
      "  \"Loan Information\": {\n",
      "    \"Loan Amount Requested\": \"30,000\",\n",
      "    \"Purpose of Loan\": \"Vehicle Purchase\",\n",
      "    \"Loan Term Desired\": \"5 years Applicant's Signature:\"\n",
      "  }\n",
      "}\n"
     ]
    }
   ],
   "source": [
    "import re\n",
    "\n",
    "def clean_loan_application_file(text):\n",
    " \n",
    "    cleaned_data = {}\n",
    "\n",
    "    # Extract the category from the first three words\n",
    "    category_match = re.search(r'(\\w+\\s+\\w+\\s+\\w+)', text)\n",
    "    if category_match:\n",
    "        cleaned_data['Category'] = category_match.group(1)\n",
    "    \n",
    "    # Extract Applicant Information\n",
    "    applicant_info = re.search(r'Applicant Information(.*?)Employment and Income Details', text, re.DOTALL)\n",
    "    if applicant_info:\n",
    "        applicant_info_text = applicant_info.group(1)\n",
    "        cleaned_data['Applicant Information'] = {\n",
    "            'Full Name': re.search(r'Full Name:\\s*(.*?)Date of Birth:', applicant_info_text, re.DOTALL).group(1).strip(),\n",
    "            'Date of Birth': re.search(r'Date of Birth:\\s*(.*?)Social Security Number:', applicant_info_text, re.DOTALL).group(1).strip(),\n",
    "            'Social Security Number': re.search(r'Social Security Number:\\s*(.*?)Contact Number:', applicant_info_text, re.DOTALL).group(1).strip(),\n",
    "            'Contact Number': re.search(r'Contact Number:\\s*(.*?)Email Address:', applicant_info_text, re.DOTALL).group(1).strip(),\n",
    "            'Email Address': re.search(r'Email Address:\\s*(.*?)Physical Address:', applicant_info_text, re.DOTALL).group(1).strip(),\n",
    "            'Physical Address': re.search(r'Physical Address:\\s*(.*)', applicant_info_text, re.DOTALL).group(1).strip(),\n",
    "        }\n",
    "\n",
    "    # Extract Employment and Income Details\n",
    "    employment_info = re.search(r'Employment and Income Details(.*?)Loan Information', text, re.DOTALL)\n",
    "    if employment_info:\n",
    "        employment_info_text = employment_info.group(1)\n",
    "        cleaned_data['Employment and Income Details'] = {\n",
    "            'Employer Name': re.search(r'Employer Name\\s*(.*?)Position', employment_info_text, re.DOTALL).group(1).strip(),\n",
    "            'Position': re.search(r'Position\\s*(.*?)Employment Duration', employment_info_text, re.DOTALL).group(1).strip(),\n",
    "            'Employment Duration': re.search(r'Employment Duration\\s*(.*?)Monthly Income', employment_info_text, re.DOTALL).group(1).strip(),\n",
    "            'Monthly Income': re.search(r'Monthly Income\\s*\\$?(.*?)Contact Number', employment_info_text, re.DOTALL).group(1).strip(),\n",
    "            'Employer Contact Number': re.search(r'Contact Number\\s*(.*)', employment_info_text, re.DOTALL).group(1).strip(),\n",
    "        }\n",
    "\n",
    "    # Extract Loan Information\n",
    "    loan_info = re.search(r'Loan Information(.*)', text, re.DOTALL)\n",
    "    if loan_info:\n",
    "        loan_info_text = loan_info.group(1)\n",
    "        cleaned_data['Loan Information'] = {\n",
    "            'Loan Amount Requested': re.search(r'Loan Amount Requested:\\s*\\$?(.*?)Purpose of Loan:', loan_info_text, re.DOTALL).group(1).strip(),\n",
    "            'Purpose of Loan': re.search(r'Purpose of Loan:\\s*(.*?)Loan Term Desired:', loan_info_text, re.DOTALL).group(1).strip(),\n",
    "            'Loan Term Desired': re.search(r'Loan Term Desired:\\s*(.*)', loan_info_text, re.DOTALL).group(1).strip(),\n",
    "        }\n",
    "\n",
    "    return cleaned_data\n",
    "\n",
    "# Example usage\n",
    "cleaned_data = clean_loan_application_file(pre_cleaned_data)\n",
    "print(json.dumps(cleaned_data, indent=2))"
   ]
  },
  {
   "cell_type": "markdown",
   "metadata": {},
   "source": [
    "#### Paystubs"
   ]
  },
  {
   "cell_type": "code",
   "execution_count": 115,
   "metadata": {},
   "outputs": [
    {
     "name": "stdout",
     "output_type": "stream",
     "text": [
      "                0             1       2                 3  \\\n",
      "0     Description  Hours Worked    Rate  Current Earnings   \n",
      "1     Regular Pay           160  $28.65         $4,583.33   \n",
      "2    Overtime Pay             5  $42.98           $214.90   \n",
      "3           Bonus           N/A     N/A           $250.00   \n",
      "4  Total Earnings                               $5,048.23   \n",
      "\n",
      "                       4  \n",
      "0  Year-to-Date Earnings  \n",
      "1             $32,083.31  \n",
      "2              $1,289.40  \n",
      "3              $1,750.00  \n",
      "4             $35,122.71  \n",
      "                     0               1                    2\n",
      "0          Description  Current Amount  Year-to-Date Amount\n",
      "1          Federal Tax         $800.00            $5,600.00\n",
      "2            State Tax         $200.00            $1,400.00\n",
      "3      Social Security         $314.99            $2,204.93\n",
      "4             Medicare          $73.66              $515.49\n",
      "5  401(k) Contribution         $250.00            $1,750.00\n",
      "6     Health Insurance         $150.00            $1,050.00\n",
      "7    Total Deductions:       $1,788.65           $12,520.42\n",
      "{'handwritten': False, 'pages': [{'page_number': 1, 'width': 8.2639, 'height': 11.6806, 'unit': 'inch', 'lines': [{'text': 'Horizon Retailers'}, {'text': 'Pay Stub for: Jane Elizabeth Smith'}, {'text': 'Pay Period: July 1, 2024 - July 31, 2024'}, {'text': 'Pay Date: August 1, 2024'}, {'text': 'Employee ID: HR-67890'}, {'text': 'Employee Information:'}, {'text': 'Name: Jane Elizabeth Smith'}, {'text': 'Address: 456 Oak Avenue, Unit 10, Madison, WI 53703'}, {'text': 'Social Security Number: XXX-XX-4321'}, {'text': 'Earnings'}, {'text': 'Description'}, {'text': 'Hours Worked Rate'}, {'text': 'Current Earnings'}, {'text': 'Year-to-Date Earnings'}, {'text': 'Regular Pay'}, {'text': '160'}, {'text': '$28.65'}, {'text': '$4,583.33'}, {'text': '$32,083.31'}, {'text': 'Overtime Pay'}, {'text': '5'}, {'text': '$42.98'}, {'text': '$214.90'}, {'text': '$1,289.40'}, {'text': 'Bonus'}, {'text': 'N/A'}, {'text': 'N/A'}, {'text': '$250.00'}, {'text': '$1,750.00'}, {'text': 'Total Earnings'}, {'text': '$5,048.23'}, {'text': '$35,122.71'}, {'text': 'Deductions'}, {'text': 'Description'}, {'text': 'Current Amount Year-to-Date Amount'}, {'text': 'Federal Tax'}, {'text': '$800.00'}, {'text': '$5,600.00'}, {'text': 'State Tax'}, {'text': '$200.00'}, {'text': '$1,400.00'}, {'text': 'Social Security'}, {'text': '$314.99'}, {'text': '$2,204.93'}, {'text': 'Medicare'}, {'text': '$73.66'}, {'text': '$515.49'}, {'text': '401(k) Contribution'}, {'text': '$250.00'}, {'text': '$1,750.00'}, {'text': 'Health Insurance'}, {'text': '$150.00'}, {'text': '$1,050.00'}, {'text': 'Total Deductions:'}, {'text': '$1,788.65'}, {'text': '$12,520.42'}], 'selection_marks': []}, {'page_number': 2, 'width': 8.2639, 'height': 11.6806, 'unit': 'inch', 'lines': [{'text': 'Employer Information:'}, {'text': 'Horizon Retailers'}, {'text': '789 Commerce St, Madison, WI 53703'}, {'text': 'Contact Number: (555) 789-2345'}, {'text': 'Website: www.horizonretailers.com'}], 'selection_marks': []}], 'tables': [{'row_count': 5, 'column_count': 5, 'bounding_regions': [{'page_number': 1, 'polygon': [0.9914, 4.5779, 6.4379, 4.5826, 6.4359, 6.4632, 0.9905, 6.4598]}], 'cells': [{'row_index': 0, 'column_index': 0, 'content': 'Description', 'bounding_regions': [{'page_number': 1, 'polygon': [1.0112, 4.6069, 2.0423, 4.6069, 2.0423, 4.9734, 1.0112, 4.9734]}]}, {'row_index': 0, 'column_index': 1, 'content': 'Hours Worked', 'bounding_regions': [{'page_number': 1, 'polygon': [2.0423, 4.6069, 3.1015, 4.6069, 3.1015, 4.9791, 2.0423, 4.9734]}]}, {'row_index': 0, 'column_index': 2, 'content': 'Rate', 'bounding_regions': [{'page_number': 1, 'polygon': [3.1015, 4.6069, 3.6142, 4.6069, 3.6142, 4.9791, 3.1015, 4.9791]}]}, {'row_index': 0, 'column_index': 3, 'content': 'Current Earnings', 'bounding_regions': [{'page_number': 1, 'polygon': [3.6142, 4.6069, 4.8313, 4.6125, 4.8313, 4.9791, 3.6142, 4.9791]}]}, {'row_index': 0, 'column_index': 4, 'content': 'Year-to-Date Earnings', 'bounding_regions': [{'page_number': 1, 'polygon': [4.8313, 4.6125, 6.4145, 4.6125, 6.4145, 4.9791, 4.8313, 4.9791]}]}, {'row_index': 1, 'column_index': 0, 'content': 'Regular Pay', 'bounding_regions': [{'page_number': 1, 'polygon': [1.0112, 4.9734, 2.0423, 4.9734, 2.0423, 5.3456, 1.0112, 5.3343]}]}, {'row_index': 1, 'column_index': 1, 'content': '160', 'bounding_regions': [{'page_number': 1, 'polygon': [2.0423, 4.9734, 3.1015, 4.9791, 3.1015, 5.3456, 2.0423, 5.3456]}]}, {'row_index': 1, 'column_index': 2, 'content': '$28.65', 'bounding_regions': [{'page_number': 1, 'polygon': [3.1015, 4.9791, 3.6142, 4.9791, 3.6142, 5.3456, 3.1015, 5.3456]}]}, {'row_index': 1, 'column_index': 3, 'content': '$4,583.33', 'bounding_regions': [{'page_number': 1, 'polygon': [3.6142, 4.9791, 4.8313, 4.9791, 4.8313, 5.3456, 3.6142, 5.3456]}]}, {'row_index': 1, 'column_index': 4, 'content': '$32,083.31', 'bounding_regions': [{'page_number': 1, 'polygon': [4.8313, 4.9791, 6.4145, 4.9791, 6.4145, 5.3456, 4.8313, 5.3456]}]}, {'row_index': 2, 'column_index': 0, 'content': 'Overtime Pay', 'bounding_regions': [{'page_number': 1, 'polygon': [1.0112, 5.3343, 2.0423, 5.3456, 2.0423, 5.7064, 1.0112, 5.7064]}]}, {'row_index': 2, 'column_index': 1, 'content': '5', 'bounding_regions': [{'page_number': 1, 'polygon': [2.0423, 5.3456, 3.1015, 5.3456, 3.1015, 5.7121, 2.0423, 5.7064]}]}, {'row_index': 2, 'column_index': 2, 'content': '$42.98', 'bounding_regions': [{'page_number': 1, 'polygon': [3.1015, 5.3456, 3.6142, 5.3456, 3.6142, 5.7121, 3.1015, 5.7121]}]}, {'row_index': 2, 'column_index': 3, 'content': '$214.90', 'bounding_regions': [{'page_number': 1, 'polygon': [3.6142, 5.3456, 4.8313, 5.3456, 4.8369, 5.7121, 3.6142, 5.7121]}]}, {'row_index': 2, 'column_index': 4, 'content': '$1,289.40', 'bounding_regions': [{'page_number': 1, 'polygon': [4.8313, 5.3456, 6.4145, 5.3456, 6.4145, 5.7121, 4.8369, 5.7121]}]}, {'row_index': 3, 'column_index': 0, 'content': 'Bonus', 'bounding_regions': [{'page_number': 1, 'polygon': [1.0112, 5.7064, 2.0423, 5.7064, 2.0423, 6.0673, 1.0112, 6.0673]}]}, {'row_index': 3, 'column_index': 1, 'content': 'N/A', 'bounding_regions': [{'page_number': 1, 'polygon': [2.0423, 5.7064, 3.1015, 5.7121, 3.1015, 6.073, 2.0423, 6.0673]}]}, {'row_index': 3, 'column_index': 2, 'content': 'N/A', 'bounding_regions': [{'page_number': 1, 'polygon': [3.1015, 5.7121, 3.6142, 5.7121, 3.6142, 6.073, 3.1015, 6.073]}]}, {'row_index': 3, 'column_index': 3, 'content': '$250.00', 'bounding_regions': [{'page_number': 1, 'polygon': [3.6142, 5.7121, 4.8369, 5.7121, 4.8369, 6.073, 3.6142, 6.073]}]}, {'row_index': 3, 'column_index': 4, 'content': '$1,750.00', 'bounding_regions': [{'page_number': 1, 'polygon': [4.8369, 5.7121, 6.4145, 5.7121, 6.4145, 6.073, 4.8369, 6.073]}]}, {'row_index': 4, 'column_index': 0, 'content': 'Total Earnings', 'bounding_regions': [{'page_number': 1, 'polygon': [1.0112, 6.0673, 2.0423, 6.0673, 2.0423, 6.4395, 1.0112, 6.4451]}]}, {'row_index': 4, 'column_index': 1, 'content': '', 'bounding_regions': [{'page_number': 1, 'polygon': [2.0423, 6.0673, 3.1015, 6.073, 3.1072, 6.4395, 2.0423, 6.4395]}]}, {'row_index': 4, 'column_index': 2, 'content': '', 'bounding_regions': [{'page_number': 1, 'polygon': [3.1015, 6.073, 3.6142, 6.073, 3.6199, 6.4395, 3.1072, 6.4395]}]}, {'row_index': 4, 'column_index': 3, 'content': '$5,048.23', 'bounding_regions': [{'page_number': 1, 'polygon': [3.6142, 6.073, 4.8369, 6.073, 4.8369, 6.4395, 3.6199, 6.4395]}]}, {'row_index': 4, 'column_index': 4, 'content': '$35,122.71', 'bounding_regions': [{'page_number': 1, 'polygon': [4.8369, 6.073, 6.4145, 6.073, 6.4145, 6.4395, 4.8369, 6.4395]}]}]}, {'row_count': 8, 'column_count': 3, 'bounding_regions': [{'page_number': 1, 'polygon': [0.9919, 7.0973, 5.052, 7.1039, 5.0475, 10.064, 0.9881, 10.0583]}], 'cells': [{'row_index': 0, 'column_index': 0, 'content': 'Description', 'bounding_regions': [{'page_number': 1, 'polygon': [1.014, 7.1077, 2.3423, 7.1077, 2.3423, 7.4727, 1.0089, 7.4727]}]}, {'row_index': 0, 'column_index': 1, 'content': 'Current Amount', 'bounding_regions': [{'page_number': 1, 'polygon': [2.3423, 7.1077, 3.5134, 7.1077, 3.5134, 7.4727, 2.3423, 7.4727]}]}, {'row_index': 0, 'column_index': 2, 'content': 'Year-to-Date Amount', 'bounding_regions': [{'page_number': 1, 'polygon': [3.5134, 7.1077, 5.0395, 7.1128, 5.0395, 7.4727, 3.5134, 7.4727]}]}, {'row_index': 1, 'column_index': 0, 'content': 'Federal Tax', 'bounding_regions': [{'page_number': 1, 'polygon': [1.0089, 7.4727, 2.3423, 7.4727, 2.3423, 7.8428, 1.0089, 7.8428]}]}, {'row_index': 1, 'column_index': 1, 'content': '$800.00', 'bounding_regions': [{'page_number': 1, 'polygon': [2.3423, 7.4727, 3.5134, 7.4727, 3.5134, 7.8428, 2.3423, 7.8428]}]}, {'row_index': 1, 'column_index': 2, 'content': '$5,600.00', 'bounding_regions': [{'page_number': 1, 'polygon': [3.5134, 7.4727, 5.0395, 7.4727, 5.0395, 7.8428, 3.5134, 7.8428]}]}, {'row_index': 2, 'column_index': 0, 'content': 'State Tax', 'bounding_regions': [{'page_number': 1, 'polygon': [1.0089, 7.8428, 2.3423, 7.8428, 2.3423, 8.2078, 1.0089, 8.2078]}]}, {'row_index': 2, 'column_index': 1, 'content': '$200.00', 'bounding_regions': [{'page_number': 1, 'polygon': [2.3423, 7.8428, 3.5134, 7.8428, 3.5134, 8.2078, 2.3423, 8.2078]}]}, {'row_index': 2, 'column_index': 2, 'content': '$1,400.00', 'bounding_regions': [{'page_number': 1, 'polygon': [3.5134, 7.8428, 5.0395, 7.8428, 5.0395, 8.2078, 3.5134, 8.2078]}]}, {'row_index': 3, 'column_index': 0, 'content': 'Social Security', 'bounding_regions': [{'page_number': 1, 'polygon': [1.0089, 8.2078, 2.3423, 8.2078, 2.3423, 8.5678, 1.0038, 8.5678]}]}, {'row_index': 3, 'column_index': 1, 'content': '$314.99', 'bounding_regions': [{'page_number': 1, 'polygon': [2.3423, 8.2078, 3.5134, 8.2078, 3.5134, 8.5678, 2.3423, 8.5678]}]}, {'row_index': 3, 'column_index': 2, 'content': '$2,204.93', 'bounding_regions': [{'page_number': 1, 'polygon': [3.5134, 8.2078, 5.0395, 8.2078, 5.0395, 8.5678, 3.5134, 8.5678]}]}, {'row_index': 4, 'column_index': 0, 'content': 'Medicare', 'bounding_regions': [{'page_number': 1, 'polygon': [1.0038, 8.5678, 2.3423, 8.5678, 2.3423, 8.9379, 1.0038, 8.9379]}]}, {'row_index': 4, 'column_index': 1, 'content': '$73.66', 'bounding_regions': [{'page_number': 1, 'polygon': [2.3423, 8.5678, 3.5134, 8.5678, 3.5084, 8.9379, 2.3423, 8.9379]}]}, {'row_index': 4, 'column_index': 2, 'content': '$515.49', 'bounding_regions': [{'page_number': 1, 'polygon': [3.5134, 8.5678, 5.0395, 8.5678, 5.0344, 8.9328, 3.5084, 8.9379]}]}, {'row_index': 5, 'column_index': 0, 'content': '401(k) Contribution', 'bounding_regions': [{'page_number': 1, 'polygon': [1.0038, 8.9379, 2.3423, 8.9379, 2.3372, 9.313, 1.0038, 9.313]}]}, {'row_index': 5, 'column_index': 1, 'content': '$250.00', 'bounding_regions': [{'page_number': 1, 'polygon': [2.3423, 8.9379, 3.5084, 8.9379, 3.5084, 9.3079, 2.3372, 9.313]}]}, {'row_index': 5, 'column_index': 2, 'content': '$1,750.00', 'bounding_regions': [{'page_number': 1, 'polygon': [3.5084, 8.9379, 5.0344, 8.9328, 5.0344, 9.3079, 3.5084, 9.3079]}]}, {'row_index': 6, 'column_index': 0, 'content': 'Health Insurance', 'bounding_regions': [{'page_number': 1, 'polygon': [1.0038, 9.313, 2.3372, 9.313, 2.3372, 9.678, 1.0038, 9.678]}]}, {'row_index': 6, 'column_index': 1, 'content': '$150.00', 'bounding_regions': [{'page_number': 1, 'polygon': [2.3372, 9.313, 3.5084, 9.3079, 3.5084, 9.678, 2.3372, 9.678]}]}, {'row_index': 6, 'column_index': 2, 'content': '$1,050.00', 'bounding_regions': [{'page_number': 1, 'polygon': [3.5084, 9.3079, 5.0344, 9.3079, 5.0344, 9.673, 3.5084, 9.678]}]}, {'row_index': 7, 'column_index': 0, 'content': 'Total Deductions:', 'bounding_regions': [{'page_number': 1, 'polygon': [1.0038, 9.678, 2.3372, 9.678, 2.3372, 10.0329, 0.9988, 10.038]}]}, {'row_index': 7, 'column_index': 1, 'content': '$1,788.65', 'bounding_regions': [{'page_number': 1, 'polygon': [2.3372, 9.678, 3.5084, 9.678, 3.5084, 10.0329, 2.3372, 10.0329]}]}, {'row_index': 7, 'column_index': 2, 'content': '$12,520.42', 'bounding_regions': [{'page_number': 1, 'polygon': [3.5084, 9.678, 5.0344, 9.673, 5.0344, 10.0329, 3.5084, 10.0329]}]}]}], 'structured_tables': [[['Description', 'Hours Worked', 'Rate', 'Current Earnings', 'Year-to-Date Earnings'], ['Regular Pay', '160', '$28.65', '$4,583.33', '$32,083.31'], ['Overtime Pay', '5', '$42.98', '$214.90', '$1,289.40'], ['Bonus', 'N/A', 'N/A', '$250.00', '$1,750.00'], ['Total Earnings', '', '', '$5,048.23', '$35,122.71']], [['Description', 'Current Amount', 'Year-to-Date Amount'], ['Federal Tax', '$800.00', '$5,600.00'], ['State Tax', '$200.00', '$1,400.00'], ['Social Security', '$314.99', '$2,204.93'], ['Medicare', '$73.66', '$515.49'], ['401(k) Contribution', '$250.00', '$1,750.00'], ['Health Insurance', '$150.00', '$1,050.00'], ['Total Deductions:', '$1,788.65', '$12,520.42']]]}\n"
     ]
    }
   ],
   "source": [
    "def clean_form_recognizer_result(data):\n",
    "    for page in data.get(\"pages\", []):\n",
    "        for line in page.get(\"lines\", []):\n",
    "            # Check if the line contains the word \"table\"\n",
    "            if \"table\" in line.get(\"text\", \"\").lower():\n",
    "                continue  # Keep everything if \"table\" is in the text\n",
    "            # Keep only the \"text\" key\n",
    "            line_keys = list(line.keys())\n",
    "            for key in line_keys:\n",
    "                if key != \"text\":\n",
    "                    del line[key]\n",
    "    \n",
    "    # Create structured tables\n",
    "    structured_tables = create_structured_tables(data.get(\"tables\", []))\n",
    "    data[\"structured_tables\"] = structured_tables\n",
    "    \n",
    "    return data\n",
    "\n",
    "def create_structured_tables(tables):\n",
    "    structured_tables = []\n",
    "    for table in tables:\n",
    "        row_count = table.get(\"row_count\", 0)\n",
    "        column_count = table.get(\"column_count\", 0)\n",
    "        cells = table.get(\"cells\", [])\n",
    "        \n",
    "        # Initialize an empty table\n",
    "        structured_table = [[\"\" for _ in range(column_count)] for _ in range(row_count)]\n",
    "        \n",
    "        # Populate the table with cell content\n",
    "        for cell in cells:\n",
    "            row_index = cell.get(\"row_index\", 0)\n",
    "            column_index = cell.get(\"column_index\", 0)\n",
    "            content = cell.get(\"content\", \"\")\n",
    "            structured_table[row_index][column_index] = content\n",
    "        \n",
    "        structured_tables.append(structured_table)\n",
    "    \n",
    "    return structured_tables\n",
    "\n",
    "import pandas as pd\n",
    "def tables_to_dataframes(structured_tables):\n",
    "    dataframes = []\n",
    "    for table in structured_tables:\n",
    "        df = pd.DataFrame(table)\n",
    "        dataframes.append(df)\n",
    "    return dataframes\n",
    "\n",
    "cleaned_data = clean_form_recognizer_result(paystub)\n",
    "dataframes = tables_to_dataframes(cleaned_data[\"structured_tables\"])\n",
    "\n",
    "df_list = []\n",
    "\n",
    "for df in dataframes:\n",
    "    print(df)\n",
    "    df_list.append(df)\n",
    "\n",
    "combined_df = pd.concat(df_list, ignore_index=True)\n",
    "combined_df.to_excel('dataframes_combined.xlsx', index=False)\n",
    "\n",
    "cleaned_data = clean_form_recognizer_result(paystub)\n",
    "print(cleaned_data)"
   ]
  }
 ],
 "metadata": {
  "kernelspec": {
   "display_name": "Python 3",
   "language": "python",
   "name": "python3"
  },
  "language_info": {
   "codemirror_mode": {
    "name": "ipython",
    "version": 3
   },
   "file_extension": ".py",
   "mimetype": "text/x-python",
   "name": "python",
   "nbconvert_exporter": "python",
   "pygments_lexer": "ipython3",
   "version": "3.11.9"
  }
 },
 "nbformat": 4,
 "nbformat_minor": 2
}
