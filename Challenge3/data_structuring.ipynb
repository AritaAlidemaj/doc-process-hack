{
 "cells": [
  {
   "cell_type": "markdown",
   "metadata": {},
   "source": [
    "### Step 1 - Read the Information from the Blobs\n",
    "\n",
    "In this step, we will structure the data retrieved from Azure Document Intelligence. The data will be outputted as a JSON file, and it is our role to process and organize it. Some of the data will be structured into tables, while other data will be formatted as text. This step ensures that the extracted information is organized in a meaningful way for further analysis and usage."
   ]
  },
  {
   "cell_type": "code",
   "execution_count": 20,
   "metadata": {},
   "outputs": [],
   "source": [
    "import os\n",
    "import json\n",
    "from azure.storage.blob import BlobServiceClient\n",
    "from dotenv import load_dotenv\n",
    "\n",
    "# Load environment variables from .env file\n",
    "load_dotenv()\n",
    "\n",
    "def read_json_files_from_blob(folder_path):\n",
    "    # Retrieve the connection string from the environment variables\n",
    "    connection_string = os.getenv('connection_string')\n",
    "\n",
    "    # Ensure the connection string is not None\n",
    "    if connection_string is None:\n",
    "        raise ValueError(\"The connection string environment variable is not set.\")\n",
    "\n",
    "    # Create a BlobServiceClient\n",
    "    blob_service_client = BlobServiceClient.from_connection_string(connection_string)\n",
    "\n",
    "    # Get the container client\n",
    "    container_client = blob_service_client.get_container_client(\"bankdetail\")\n",
    "\n",
    "    # List all blobs in the specified folder\n",
    "    blob_list = container_client.list_blobs(name_starts_with=folder_path)\n",
    "\n",
    "    # Filter out JSON files and read their contents\n",
    "    for blob in blob_list:\n",
    "        if blob.name.endswith('.json'):\n",
    "            blob_client = container_client.get_blob_client(blob.name)\n",
    "            blob_data = blob_client.download_blob().readall()\n",
    "            data = json.loads(blob_data)\n",
    "            # print(f\"Contents of {blob.name}:\")\n",
    "            # print(json.dumps(data, indent=2))\n",
    "            # print(\"\\n\")\n",
    "            return data "
   ]
  },
  {
   "cell_type": "markdown",
   "metadata": {},
   "source": [
    "#### Loan Agreements"
   ]
  },
  {
   "cell_type": "code",
   "execution_count": 21,
   "metadata": {},
   "outputs": [],
   "source": [
    "loanagreement = read_json_files_from_blob(\"loanagreements\")"
   ]
  },
  {
   "cell_type": "markdown",
   "metadata": {},
   "source": [
    "#### Loan Forms"
   ]
  },
  {
   "cell_type": "code",
   "execution_count": 22,
   "metadata": {},
   "outputs": [],
   "source": [
    "loanform = read_json_files_from_blob(\"loanform\")"
   ]
  },
  {
   "cell_type": "markdown",
   "metadata": {},
   "source": [
    "#### Pay Stubs"
   ]
  },
  {
   "cell_type": "code",
   "execution_count": 23,
   "metadata": {},
   "outputs": [],
   "source": [
    "paystubs = read_json_files_from_blob(\"paystubs\")"
   ]
  },
  {
   "cell_type": "markdown",
   "metadata": {},
   "source": [
    "### Step 3 - Data Structuring\n",
    "\n",
    "\n",
    "In this step, you will read JSON data from Azure Blob Storage, clean the data to retain only the text content, and remove any unnecessary formatting such as newlines and spaces. Follow the instructions below to complete this step."
   ]
  },
  {
   "cell_type": "markdown",
   "metadata": {},
   "source": [
    "#### Loan Agreements"
   ]
  },
  {
   "cell_type": "code",
   "execution_count": 33,
   "metadata": {},
   "outputs": [],
   "source": [
    "def clean_json_data(json_data):\n",
    "    # Extract relevant text content from the JSON\n",
    "    content = []\n",
    "\n",
    "    # Extract text from paragraphs\n",
    "    paragraphs = json_data.get(\"paragraphs\", [])\n",
    "    for paragraph in paragraphs:\n",
    "        content.append(paragraph.get(\"text\", \"\").strip())\n",
    "\n",
    "    # Extract text from pages and lines\n",
    "    pages = json_data.get(\"pages\", [])\n",
    "    for page in pages:\n",
    "        for line in page.get(\"lines\", []):\n",
    "            content.append(line.get(\"text\", \"\").strip())\n",
    "\n",
    "    # Join all text content into a single string with spaces between components\n",
    "    plain_text_content = \" \".join(content)\n",
    "\n",
    "    return plain_text_content"
   ]
  },
  {
   "cell_type": "code",
   "execution_count": 34,
   "metadata": {},
   "outputs": [
    {
     "name": "stdout",
     "output_type": "stream",
     "text": [
      "\"LOAN AGREEMENT This Loan Agreement (\\\"Agreement\\\") is made and entered into on August 1, 2024, by and between: \\u00b7 Lender: Contoso Bank Address: 123 Finance Avenue, Madison, WI 53703 Contact Number: (555) 123-4567 Email: lending@contosobank.com . Borrower: Jane Elizabeth Smith Address: 456 Oak Avenue, Unit 10, Madison, WI 53703 Contact Number: (555) 234-5678 Email: jane.smith90@example.com 1. Loan Amount and Purpose 1.1 Loan Amount: The Lender agrees to loan the Borrower the principal sum of $30,000.00 (thirty thousand dollars), referred to as the \\\"Loan.\\\" 1.2 Purpose of Loan: The Loan shall be used exclusively for the purchase of a vehicle, specifically a 2022 Toyota Camry. 2. Interest Rate 2.1 Interest Rate: The Loan shall bear interest at an annual fixed rate of 5.5%. 2.2 Accrual: Interest shall begin to accrue on the Loan from the date the funds are disbursed to the Borrower. 3. Loan Term 3.1 Term: The term of this Loan shall be 5 years (60 months), commencing on August 1, 2024, and ending on August 1, 2029. 4. Repayment 4.1 Monthly Payments: The Borrower agrees to make monthly payments of $573.99, which includes both principal and interest, starting on September 1, 2024, and continuing on the first day of each month thereafter until the Loan is fully repaid. 4.2 Prepayment: The Borrower may prepay the Loan in whole or in part at any time without penalty. Any prepayment will be applied first to accrued interest, then to the principal. 4.3 Late Payments: If any payment is not received within 10 days of the due date, the Borrower shall be charged a late fee of $25.00. 5. Security 5.1 Collateral: The Loan is secured by the vehicle purchased with the Loan proceeds, specifically a 2022 Toyota Camry. The Borrower grants the Lender a security interest in the vehicle. 5.2 Title and Insurance: The Borrower agrees to maintain full insurance coverage on the vehicle and to name the Lender as the loss payee on the insurance policy. The Borrower shall provide proof of insurance to the Lender within 30 days of the Loan disbursement. 6. Default 6.1 Events of Default: The following events shall constitute an event of default under this Agreement: . Failure to make any payment when due. . Breach of any term or condition of this Agreement. . Bankruptcy or insolvency of the Borrower. . Sale or transfer of the collateral without the Lender's consent. 6.2 Remedies: Upon the occurrence of an event of default, the Lender may declare the entire unpaid principal and accrued interest immediately due and payable. The Lender may also repossess the collateral or pursue any other remedy available at law or in equity. 7. Miscellaneous 7.1 Governing Law: This Agreement shall be governed by and construed in accordance with the laws of the State of Wisconsin. 7.2 Amendments: No amendment or modification of this Agreement shall be effective unless in writing and signed by both parties. 7.3 Severability: If any provision of this Agreement is found to be invalid or unenforceable, the remaining provisions shall continue in full force and effect. 7.4 Entire Agreement: This Agreement constitutes the entire understanding between the parties regarding the Loan and supersedes all prior discussions, agreements, or understandings of any kind. 8. Signatures IN WITNESS WHEREOF, the parties have executed this Loan Agreement as of the day and year first above written. Lender: Contoso Bank By: NG Name: Michael Grant Title: Loan Officer Date: August 1, 2024 Borrower: By: Jane Elizabeth Smith Date: August 1, 2024\"\n"
     ]
    }
   ],
   "source": [
    "# Clean the JSON data\n",
    "cleaned_data = clean_json_data(loanagreement)\n",
    "\n",
    "# Print the cleaned data\n",
    "print(json.dumps(cleaned_data, indent=2))"
   ]
  },
  {
   "cell_type": "markdown",
   "metadata": {},
   "source": [
    "#### Loan Form"
   ]
  },
  {
   "cell_type": "code",
   "execution_count": 40,
   "metadata": {},
   "outputs": [
    {
     "name": "stdout",
     "output_type": "stream",
     "text": [
      "Loan Application Form Applicant Information Full Name: Jane Elizabeth Smith Date of Birth: 08/22/1990 Social Security Number: 987-65-4321 Contact Number: (555) 234-5678 Email Address: jane.smith90@example.com Physical Address: 456 Oak Avenue, Unit 10, Madison, WI 53703 Employment and Income Details Employer Name Position Employment Duration Monthly Income Contact Number Horizon Store Manager 3 years $4,583.33 (555) 789- Retailers 2345 Loan Information Loan Amount Requested: $30,000 Purpose of Loan: Vehicle Purchase Loan Term Desired: 5 years Applicant's Signature:\n"
     ]
    }
   ],
   "source": [
    "print(clean_json_data(loanform))\n",
    "pre_cleaned_data = clean_json_data(loanform)\n"
   ]
  },
  {
   "cell_type": "code",
   "execution_count": 46,
   "metadata": {},
   "outputs": [
    {
     "name": "stdout",
     "output_type": "stream",
     "text": [
      "{\n",
      "  \"Category\": \"Loan Application Form\",\n",
      "  \"Applicant Information\": {\n",
      "    \"Full Name\": \"Jane Elizabeth Smith\",\n",
      "    \"Date of Birth\": \"08/22/1990\",\n",
      "    \"Social Security Number\": \"987-65-4321\",\n",
      "    \"Contact Number\": \"(555) 234-5678\",\n",
      "    \"Email Address\": \"jane.smith90@example.com\",\n",
      "    \"Physical Address\": \"456 Oak Avenue, Unit 10, Madison, WI 53703\"\n",
      "  },\n",
      "  \"Employment and Income Details\": {\n",
      "    \"Employer Name\": \"\",\n",
      "    \"Position\": \"\",\n",
      "    \"Employment Duration\": \"\",\n",
      "    \"Monthly Income\": \"\",\n",
      "    \"Employer Contact Number\": \"Horizon Store Manager 3 years $4,583.33 (555) 789- Retailers 2345\"\n",
      "  },\n",
      "  \"Loan Information\": {\n",
      "    \"Loan Amount Requested\": \"30,000\",\n",
      "    \"Purpose of Loan\": \"Vehicle Purchase\",\n",
      "    \"Loan Term Desired\": \"5 years Applicant's Signature:\"\n",
      "  }\n",
      "}\n"
     ]
    }
   ],
   "source": [
    "import re\n",
    "\n",
    "def clean_loan_application_file(text):\n",
    " \n",
    "    cleaned_data = {}\n",
    "\n",
    "    # Extract the category from the first three words\n",
    "    category_match = re.search(r'(\\w+\\s+\\w+\\s+\\w+)', text)\n",
    "    if category_match:\n",
    "        cleaned_data['Category'] = category_match.group(1)\n",
    "    \n",
    "    # Extract Applicant Information\n",
    "    applicant_info = re.search(r'Applicant Information(.*?)Employment and Income Details', text, re.DOTALL)\n",
    "    if applicant_info:\n",
    "        applicant_info_text = applicant_info.group(1)\n",
    "        cleaned_data['Applicant Information'] = {\n",
    "            'Full Name': re.search(r'Full Name:\\s*(.*?)Date of Birth:', applicant_info_text, re.DOTALL).group(1).strip(),\n",
    "            'Date of Birth': re.search(r'Date of Birth:\\s*(.*?)Social Security Number:', applicant_info_text, re.DOTALL).group(1).strip(),\n",
    "            'Social Security Number': re.search(r'Social Security Number:\\s*(.*?)Contact Number:', applicant_info_text, re.DOTALL).group(1).strip(),\n",
    "            'Contact Number': re.search(r'Contact Number:\\s*(.*?)Email Address:', applicant_info_text, re.DOTALL).group(1).strip(),\n",
    "            'Email Address': re.search(r'Email Address:\\s*(.*?)Physical Address:', applicant_info_text, re.DOTALL).group(1).strip(),\n",
    "            'Physical Address': re.search(r'Physical Address:\\s*(.*)', applicant_info_text, re.DOTALL).group(1).strip(),\n",
    "        }\n",
    "\n",
    "    # Extract Employment and Income Details\n",
    "    employment_info = re.search(r'Employment and Income Details(.*?)Loan Information', text, re.DOTALL)\n",
    "    if employment_info:\n",
    "        employment_info_text = employment_info.group(1)\n",
    "        cleaned_data['Employment and Income Details'] = {\n",
    "            'Employer Name': re.search(r'Employer Name\\s*(.*?)Position', employment_info_text, re.DOTALL).group(1).strip(),\n",
    "            'Position': re.search(r'Position\\s*(.*?)Employment Duration', employment_info_text, re.DOTALL).group(1).strip(),\n",
    "            'Employment Duration': re.search(r'Employment Duration\\s*(.*?)Monthly Income', employment_info_text, re.DOTALL).group(1).strip(),\n",
    "            'Monthly Income': re.search(r'Monthly Income\\s*\\$?(.*?)Contact Number', employment_info_text, re.DOTALL).group(1).strip(),\n",
    "            'Employer Contact Number': re.search(r'Contact Number\\s*(.*)', employment_info_text, re.DOTALL).group(1).strip(),\n",
    "        }\n",
    "\n",
    "    # Extract Loan Information\n",
    "    loan_info = re.search(r'Loan Information(.*)', text, re.DOTALL)\n",
    "    if loan_info:\n",
    "        loan_info_text = loan_info.group(1)\n",
    "        cleaned_data['Loan Information'] = {\n",
    "            'Loan Amount Requested': re.search(r'Loan Amount Requested:\\s*\\$?(.*?)Purpose of Loan:', loan_info_text, re.DOTALL).group(1).strip(),\n",
    "            'Purpose of Loan': re.search(r'Purpose of Loan:\\s*(.*?)Loan Term Desired:', loan_info_text, re.DOTALL).group(1).strip(),\n",
    "            'Loan Term Desired': re.search(r'Loan Term Desired:\\s*(.*)', loan_info_text, re.DOTALL).group(1).strip(),\n",
    "        }\n",
    "\n",
    "    return cleaned_data\n",
    "\n",
    "# Example usage\n",
    "cleaned_data = clean_loan_application_file(pre_cleaned_data)\n",
    "print(json.dumps(cleaned_data, indent=2))"
   ]
  },
  {
   "cell_type": "markdown",
   "metadata": {},
   "source": [
    "#### Paystubs"
   ]
  },
  {
   "cell_type": "code",
   "execution_count": null,
   "metadata": {},
   "outputs": [],
   "source": []
  },
  {
   "cell_type": "code",
   "execution_count": null,
   "metadata": {},
   "outputs": [],
   "source": []
  }
 ],
 "metadata": {
  "kernelspec": {
   "display_name": "Python 3",
   "language": "python",
   "name": "python3"
  },
  "language_info": {
   "codemirror_mode": {
    "name": "ipython",
    "version": 3
   },
   "file_extension": ".py",
   "mimetype": "text/x-python",
   "name": "python",
   "nbconvert_exporter": "python",
   "pygments_lexer": "ipython3",
   "version": "3.11.9"
  }
 },
 "nbformat": 4,
 "nbformat_minor": 2
}
